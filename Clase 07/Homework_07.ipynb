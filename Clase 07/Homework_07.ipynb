{
 "cells": [
  {
   "cell_type": "markdown",
   "metadata": {},
   "source": [
    "# Práctica Clase 7"
   ]
  },
  {
   "cell_type": "markdown",
   "metadata": {},
   "source": [
    "1) Diseñar una clase que permita trabajar con un árbol binario y que contenga los métodos:<br>\n",
    "    * insertaVal: para insertar un dato<br>\n",
    "    * buscaVal: que devuelva True o False si existe o no un dato<br>\n",
    "    * verVal: que imprima por pantalla los valores del árbol<br>\n",
    "\n",
    "Nota: Se puede utilizar la recursividad\n"
   ]
  },
  {
   "cell_type": "code",
   "execution_count": 47,
   "metadata": {},
   "outputs": [],
   "source": [
    "class Nodo():\n",
    "    def __init__(self, dato):\n",
    "        self.dato = dato\n",
    "        self.izq = None\n",
    "        self.der = None\n",
    "        \n",
    "    def getData(self):\n",
    "        return self.dato\n",
    "    \n",
    "    def insertaVal (self, dato):\n",
    "        if dato < self.dato:\n",
    "            if self.izq == None:\n",
    "                self.izq = Nodo(dato)\n",
    "            else:\n",
    "                #pero si en la izquierda esta lleno voy insertar otro nodo abajo\n",
    "                self.izq.insertaVal(dato)\n",
    "        #pero si el dato es mayor al dato del nodo voy a insertarlo por la derecha\n",
    "        elif dato > self.dato:\n",
    "            #si por derecha esta vacio creo el nodo Nodo(dato)\n",
    "            if self.der == None:\n",
    "                self.der = Nodo(dato)\n",
    "            else:\n",
    "                self.der.insertaVal(dato)\n",
    "        # y si no es mayor ni es menor es igual, si es igual que me arroje por pantalla que esta repetido\n",
    "        else:\n",
    "            print(\"El valor del nodo esta repetido\")\n",
    "                    \n",
    "    def buscaVal (self, Val_buscado):\n",
    "        if Val_buscado < self.dato:\n",
    "            #como saber si es el ultimo valor\n",
    "            if self.izq == None:\n",
    "                return (False)\n",
    "            \n",
    "                #como el valor buscado no esta vacio que me vuelva a preguntar si es menor o mayor para saber para donde buscar\n",
    "                #para moverme al proximo que me retorne al self.izq nodo uso la recursividad con buscarVal\n",
    "            return self.izq.buscaVal(Val_buscado)\n",
    "        \n",
    "        elif Val_buscado > self.dato:\n",
    "            # pregunto si esta vacio si esta vacio  imprimo que no se encontro\n",
    "            if self.der == None:\n",
    "                return(False)\n",
    "            return self.der.buscaVal(Val_buscado)            \n",
    "        \n",
    "        else:\n",
    "            return (True)\n",
    "    def verVals (self):\n",
    "        #primero imprime y despues deplazate\n",
    "        #print(self.dato)\n",
    "        #si hay datos por la izquierda aplicame la funcion.\n",
    "        if self.izq:\n",
    "            self.izq.verVals()\n",
    "\n",
    "        print(self.dato) #derecha, raiz, izquierda\n",
    "        \n",
    "        if self.der:\n",
    "            self.der.verVals()\n",
    "        \n",
    "        \n",
    "            "
   ]
  },
  {
   "cell_type": "code",
   "execution_count": 48,
   "metadata": {},
   "outputs": [],
   "source": [
    "#instanciamos el nodo raiz\n",
    "raiz = Nodo(8) "
   ]
  },
  {
   "cell_type": "code",
   "execution_count": 49,
   "metadata": {},
   "outputs": [],
   "source": [
    "#insertamos los siuientes nodos\n",
    "raiz.insertaVal(2)\n",
    "raiz.insertaVal(7)\n",
    "raiz.insertaVal(4)\n",
    "raiz.insertaVal(5)\n",
    "raiz.insertaVal(9)"
   ]
  },
  {
   "cell_type": "markdown",
   "metadata": {},
   "source": [
    "Busqueda binario"
   ]
  },
  {
   "cell_type": "code",
   "execution_count": 50,
   "metadata": {},
   "outputs": [
    {
     "data": {
      "text/plain": [
       "True"
      ]
     },
     "execution_count": 50,
     "metadata": {},
     "output_type": "execute_result"
    }
   ],
   "source": [
    "raiz.buscaVal(5)"
   ]
  },
  {
   "cell_type": "code",
   "execution_count": 51,
   "metadata": {},
   "outputs": [
    {
     "name": "stdout",
     "output_type": "stream",
     "text": [
      "2\n",
      "4\n",
      "5\n",
      "7\n",
      "8\n",
      "9\n"
     ]
    }
   ],
   "source": [
    "raiz.verVals()"
   ]
  },
  {
   "cell_type": "code",
   "execution_count": null,
   "metadata": {},
   "outputs": [],
   "source": []
  }
 ],
 "metadata": {
  "kernelspec": {
   "display_name": "Python 3.10.6 64-bit",
   "language": "python",
   "name": "python3"
  },
  "language_info": {
   "codemirror_mode": {
    "name": "ipython",
    "version": 3
   },
   "file_extension": ".py",
   "mimetype": "text/x-python",
   "name": "python",
   "nbconvert_exporter": "python",
   "pygments_lexer": "ipython3",
   "version": "3.10.6"
  },
  "vscode": {
   "interpreter": {
    "hash": "d90312a38fc1d0a22e54075737e7cbc9c4bce8201c3fcbae88019b0c90a84f0b"
   }
  }
 },
 "nbformat": 4,
 "nbformat_minor": 4
}
