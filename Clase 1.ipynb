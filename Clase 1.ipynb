{
 "cells": [
  {
   "cell_type": "code",
   "execution_count": null,
   "metadata": {},
   "outputs": [],
   "source": [
    "#29=11101 Esta función recibe como parámetro un número entero mayor ó igual a cero y lo devuelve en su \n",
    "    #representación binaria. Debe recibir y devolver un valor de tipo entero.En caso de que el parámetro no sea de tipo entero y mayor a -1 retorna nulo."
   ]
  },
  {
   "cell_type": "code",
   "execution_count": 11,
   "metadata": {},
   "outputs": [],
   "source": [
    "def numero_binario (numero):\n",
    "    if (type(numero)!=int or numero < -1):\n",
    "        return(None)\n",
    "    lista_binario =[]\n",
    "    numero_n = 0\n",
    "    while (numero > 0):\n",
    "        numero_n = numero % 2\n",
    "        numero= numero // 2\n",
    "        lista_binario.append(numero_n)\n",
    "        \n",
    "    # para ordenarlos \n",
    "    sol= \"\"\n",
    "    for n in lista_binario:\n",
    "    # hay que colocar el str primero que el sol para que se vaya iterando a la izquierda.\n",
    "        sol= str(n) + sol\n",
    "    return(int(sol))\n"
   ]
  },
  {
   "cell_type": "code",
   "execution_count": 12,
   "metadata": {},
   "outputs": [
    {
     "data": {
      "text/plain": [
       "11101"
      ]
     },
     "execution_count": 12,
     "metadata": {},
     "output_type": "execute_result"
    }
   ],
   "source": [
    "numero_binario(29)"
   ]
  },
  {
   "cell_type": "code",
   "execution_count": 1,
   "metadata": {},
   "outputs": [
    {
     "name": "stdout",
     "output_type": "stream",
     "text": [
      "11101\n"
     ]
    }
   ],
   "source": [
    "\n",
    "#propuesta de paula\n",
    "numero = 29\n",
    "# valor binario que va iniciar en cero.\n",
    "binario = 0\n",
    "# numero de la iteracion ya que el valor que se va a ir añadiendo depende de la iteracion.\n",
    "iteracion = 0\n",
    "while (numero > 0):\n",
    "    #para dar la pocicion\n",
    "    binario = binario + (numero %2)*(10**iteracion)\n",
    "    # para quedarnos con la parte entera\n",
    "    numero=numero//2\n",
    "    iteracion += 1 \n",
    "print(binario)    \n",
    "    "
   ]
  },
  {
   "cell_type": "code",
   "execution_count": 16,
   "metadata": {},
   "outputs": [
    {
     "name": "stdout",
     "output_type": "stream",
     "text": [
      "0.0101\n"
     ]
    }
   ],
   "source": [
    "#de decimal a binario\n",
    "numero = 0.3125\n",
    "limite = 20 # para que no pase mas de 20 iteraciones\n",
    "iteracion = 0\n",
    "# se va a trabjar con la parte decimal y la entera\n",
    "# se guarda en la lista el valor entero y se vuelve a iteral con lo que queda en los decimales.\n",
    "binario_2 = 0\n",
    "# se va iterar hasta que el numero decimal sea 0 1.00\n",
    "while (numero != 0) and ( iteracion < limite):\n",
    "    numero = numero * 2\n",
    "    binario_2 = binario_2 + ( numero // 2)* (1/(10**iteracion)) # el numero // 2 por que nos estamos quedando con la parte entera\n",
    "    iteracion += 1\n",
    "    numero = numero % 2 #para que el numero tome el valor decimal 0.235 y despues se vulve a iterar\n",
    "print(binario_2)\n",
    "    \n",
    "    \n",
    "    \n",
    "\n"
   ]
  },
  {
   "cell_type": "code",
   "execution_count": 23,
   "metadata": {},
   "outputs": [
    {
     "name": "stdout",
     "output_type": "stream",
     "text": [
      "[0, 1, 0, 1]\n",
      "0.0101\n"
     ]
    }
   ],
   "source": [
    "#lo vamos hacer con str\n",
    "numer = 0.3125\n",
    "bin_lis= []\n",
    "iteracion = 0\n",
    "#mientras el numero decimal no de cero, se va a seguir iterando\n",
    "while (numer != 0 ):\n",
    "    # se agrega el numero entero optenido de la multipliicacion.\n",
    "    bin_lis.append(int(numer * 2))\n",
    "    # el numero va ser el reciduo de la division entre dos\n",
    "    numer = ((numer*2) - (int(numer*2))) #para que me quede solo el valor decimla 1.25 -1 = 0.25\n",
    "    iteracion += 1\n",
    "print(bin_lis)\n",
    "a = \"0.\"\n",
    "for x in bin_lis:\n",
    "    a= a + str(x)\n",
    "print(a)\n",
    "    \n",
    "     "
   ]
  }
 ],
 "metadata": {
  "kernelspec": {
   "display_name": "Python 3.10.6 64-bit",
   "language": "python",
   "name": "python3"
  },
  "language_info": {
   "codemirror_mode": {
    "name": "ipython",
    "version": 3
   },
   "file_extension": ".py",
   "mimetype": "text/x-python",
   "name": "python",
   "nbconvert_exporter": "python",
   "pygments_lexer": "ipython3",
   "version": "3.10.6"
  },
  "orig_nbformat": 4,
  "vscode": {
   "interpreter": {
    "hash": "d90312a38fc1d0a22e54075737e7cbc9c4bce8201c3fcbae88019b0c90a84f0b"
   }
  }
 },
 "nbformat": 4,
 "nbformat_minor": 2
}
