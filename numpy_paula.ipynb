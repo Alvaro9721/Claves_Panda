{
 "cells": [
  {
   "cell_type": "code",
   "execution_count": 1,
   "metadata": {},
   "outputs": [
    {
     "name": "stdout",
     "output_type": "stream",
     "text": [
      "[1 2 3 4 5 6 7 8 9]\n"
     ]
    }
   ],
   "source": [
    "\n",
    "import numpy as np\n",
    "# que operaciones se pueden hacer tanto en un arregloe de numpy como en una lista , dar ejemplos.\n",
    "lista = [1,2,3,4,5,6,7,8,9]\n",
    "\n",
    "arreglo= np.array(lista)\n",
    "\n",
    "print(arreglo)"
   ]
  },
  {
   "cell_type": "code",
   "execution_count": 2,
   "metadata": {},
   "outputs": [
    {
     "name": "stdout",
     "output_type": "stream",
     "text": [
      "[['1' '2' '3' '4' '5' '6' '7' '8' '9']\n",
      " ['True' 'False' 'True' 'True' 'False' 'True' 'True' 'False' 'True']\n",
      " ['uno' 'dos' 'tres' 'uno' 'dos' 'tres' 'uno' 'dos' 'tres']]\n"
     ]
    }
   ],
   "source": [
    "arreglo2=np.array([[1,2,3,4,5,6,7,8,9],[True,False,True,True,False,True,True,False,True],[\"uno\", \"dos\",\"tres\",\"uno\", \"dos\",\"tres\",\"uno\", \"dos\",\"tres\"]])\n",
    "\n",
    "print(arreglo2)"
   ]
  },
  {
   "cell_type": "code",
   "execution_count": 22,
   "metadata": {},
   "outputs": [
    {
     "name": "stdout",
     "output_type": "stream",
     "text": [
      "[0 1 2 3 4 5 6 7 8 9]\n"
     ]
    }
   ],
   "source": [
    "#arreglo del cero al 9\n",
    "\n",
    "arre = np.arange(10)\n",
    "print(arre)"
   ]
  },
  {
   "cell_type": "code",
   "execution_count": null,
   "metadata": {},
   "outputs": [],
   "source": [
    "ari = np.linspace(0,9,100)\n",
    "\n",
    "print(ari)\n",
    "\n",
    "print(len(ari))"
   ]
  },
  {
   "cell_type": "code",
   "execution_count": 41,
   "metadata": {},
   "outputs": [
    {
     "name": "stdout",
     "output_type": "stream",
     "text": [
      "[ 10  11  -1  13  14  -1  16  17  -1  19  20  -1  22  23  -1  25  26  -1\n",
      "  28  29  -1  31  32  -1  34  35  -1  37  38  -1  40  41  -1  43  44  -1\n",
      "  46  47  -1  49  50  -1  52  53  -1  55  56  -1  58  59  -1  61  62  -1\n",
      "  64  65  -1  67  68  -1  70  71  -1  73  74  -1  76  77  -1  79  80  -1\n",
      "  82  83  -1  85  86  -1  88  89  -1  91  92  -1  94  95  -1  97  98  -1\n",
      " 100]\n"
     ]
    },
    {
     "data": {
      "text/plain": [
       "23"
      ]
     },
     "execution_count": 41,
     "metadata": {},
     "output_type": "execute_result"
    }
   ],
   "source": [
    "op= np.arange(10,101)\n",
    "\n",
    "div_3=(op%3 ==0)\n",
    "\n",
    "\n",
    "op[div_3]=-1\n",
    "print(op)\n",
    "\n",
    "toto=np.array([1,2,3,4,5,8])\n",
    "\n",
    "toto.sum()\n"
   ]
  },
  {
   "cell_type": "code",
   "execution_count": 45,
   "metadata": {},
   "outputs": [
    {
     "data": {
      "text/plain": [
       "array([[0, 0, 0, 0, 0, 0, 0, 0, 0, 0],\n",
       "       [0, 0, 0, 0, 0, 0, 0, 0, 0, 0],\n",
       "       [0, 0, 0, 0, 0, 0, 0, 0, 0, 0],\n",
       "       [0, 0, 0, 0, 0, 0, 0, 0, 0, 0],\n",
       "       [0, 0, 0, 0, 0, 0, 0, 0, 0, 0]])"
      ]
     },
     "execution_count": 45,
     "metadata": {},
     "output_type": "execute_result"
    }
   ],
   "source": [
    "nwe = np.full((5,10),0)\n",
    "\n",
    "nwe"
   ]
  },
  {
   "cell_type": "code",
   "execution_count": 49,
   "metadata": {},
   "outputs": [
    {
     "name": "stdout",
     "output_type": "stream",
     "text": [
      "[[0 0 2 0 0 0 0 2 0 0]\n",
      " [1 1 2 1 1 1 1 2 1 1]\n",
      " [0 0 2 0 0 0 0 2 0 0]\n",
      " [1 1 2 1 1 1 1 2 1 1]\n",
      " [0 0 2 0 0 0 0 2 0 0]]\n"
     ]
    }
   ],
   "source": [
    "nwe[[1,3],:]=1\n",
    "nwe[:,[2,7]]=2\n",
    "\n",
    "print(nwe)"
   ]
  }
 ],
 "metadata": {
  "kernelspec": {
   "display_name": "Python 3.10.6 64-bit",
   "language": "python",
   "name": "python3"
  },
  "language_info": {
   "codemirror_mode": {
    "name": "ipython",
    "version": 3
   },
   "file_extension": ".py",
   "mimetype": "text/x-python",
   "name": "python",
   "nbconvert_exporter": "python",
   "pygments_lexer": "ipython3",
   "version": "3.10.6"
  },
  "orig_nbformat": 4,
  "vscode": {
   "interpreter": {
    "hash": "d90312a38fc1d0a22e54075737e7cbc9c4bce8201c3fcbae88019b0c90a84f0b"
   }
  }
 },
 "nbformat": 4,
 "nbformat_minor": 2
}
