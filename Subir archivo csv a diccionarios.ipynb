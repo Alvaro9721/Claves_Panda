{
 "cells": [
  {
   "cell_type": "markdown",
   "metadata": {},
   "source": [
    "# Práctica Clase 2"
   ]
  },
  {
   "cell_type": "markdown",
   "metadata": {},
   "source": [
    "1) Abrir el archivo \"Emisiones_CO2.csv\" y cargar sus datos en un diccionario."
   ]
  },
  {
   "cell_type": "code",
   "execution_count": 50,
   "metadata": {},
   "outputs": [],
   "source": [
    "import csv\n",
    "archivo = open('Emisiones_CO2.csv', encoding=\"latin-1\")\n",
    "# levantar linea por linea el csv, tenemos que quitar la primera linea, nos salta la primera linea por lo cual omito los encabezado\n",
    "\n",
    "    \n",
    "\n",
    "\n",
    "    "
   ]
  },
  {
   "cell_type": "code",
   "execution_count": 51,
   "metadata": {},
   "outputs": [],
   "source": [
    "dicc_emisiones = {  'cod_pais' : [],\n",
    "                    'nom_pais' : [],\n",
    "                    'region' : [],\n",
    "                    'anio' : [],\n",
    "                    'co2' : [],\n",
    "                    'co2_percapita' : []}"
   ]
  },
  {
   "cell_type": "code",
   "execution_count": 52,
   "metadata": {},
   "outputs": [],
   "source": [
    "next(archivo)\n",
    "for linea in archivo:\n",
    "     #quitamos el salto de linea\n",
    "     linea=linea.rstrip()\n",
    "     # seprar los campos qutar el separador del csv\n",
    "     campos= linea.split(\"|\")\n",
    "     dicc_emisiones[\"cod_pais\"].append(campos[0])\n",
    "     dicc_emisiones[\"nom_pais\"].append(campos[1])\n",
    "     dicc_emisiones[\"region\"].append(campos[2])\n",
    "     dicc_emisiones[\"anio\"].append(campos[3])\n",
    "     dicc_emisiones[\"co2\"].append(campos[4])\n",
    "     dicc_emisiones[\"co2_percapita\"].append(campos[5])\n",
    "    \n",
    "     "
   ]
  },
  {
   "cell_type": "code",
   "execution_count": 53,
   "metadata": {},
   "outputs": [],
   "source": [
    "archivo.close()"
   ]
  },
  {
   "cell_type": "markdown",
   "metadata": {},
   "source": [
    "2) a) ¿Cuántas variables hay? <br>\n",
    "b) ¿Qué tipos de datos usar para cada una? <br>\n",
    "c) ¿Qué tipo de variables son? <br>\n",
    "d) ¿Hay valores faltantes? <br>\n",
    "e) ¿Cuál es el total de emisiones de CO2 para 'América Latina y Caribe' en el año 2010?"
   ]
  },
  {
   "cell_type": "markdown",
   "metadata": {},
   "source": [
    "Transformacion para sacar los puntos, las comas, convertir los datos en float y str a int de los años."
   ]
  },
  {
   "cell_type": "code",
   "execution_count": 54,
   "metadata": {},
   "outputs": [],
   "source": [
    "def normalizacion (lista):\n",
    "    for indice, elemento in enumerate(lista):\n",
    "        # si hay elemto, hagame esto\n",
    "        if elemento:\n",
    "            elemento = elemento.replace(\".\", \"\")\n",
    "            elemento = elemento.replace(\",\",\".\")\n",
    "            elemento= float(elemento)\n",
    "        # si no hay elemento entoces hagame esto\n",
    "        else:\n",
    "            elemento= None\n",
    "        #entonces agregueme en este indice este elemto que si estaba en la lista\n",
    "        lista[indice] = elemento\n",
    "    # el return debe de ser fuera del for\n",
    "    return (lista)\n",
    "    "
   ]
  },
  {
   "cell_type": "code",
   "execution_count": 55,
   "metadata": {},
   "outputs": [],
   "source": [
    "# se utiliza la funcion creada y  ya tengo los datos que necesito en float\n",
    "dicc_emisiones[\"co2\"]=normalizacion(dicc_emisiones[\"co2\"])\n",
    "dicc_emisiones[\"co2_percapita\"]= normalizacion(dicc_emisiones[\"co2_percapita\"])\n",
    "# para convertir los elementos del diccionario en la clave año, que estan en str y pasarlos a int\n",
    "\n",
    "for x in range(len(dicc_emisiones[\"anio\"])):\n",
    "    #  yo quiero que cuando x me recorra el diccionario me lo transforme en int\n",
    "    dicc_emisiones[\"anio\"][x]= int(dicc_emisiones[\"anio\"][x])\n",
    "    \n",
    "\n",
    "\n",
    "\n"
   ]
  },
  {
   "cell_type": "code",
   "execution_count": 59,
   "metadata": {},
   "outputs": [
    {
     "name": "stdout",
     "output_type": "stream",
     "text": [
      "las emisiones en América Latina y Caribe y en el año 2010 fueron de 1691634.801\n"
     ]
    }
   ],
   "source": [
    "# la suma de co2 para america latina y el caribe en el año 2010\n",
    "#filtrando\n",
    "\n",
    "#primero que todo declaramos los filtros que vvamos a utilizar\n",
    "filtro_anio = 2010\n",
    "filtro_region = 'América Latina y Caribe'\n",
    "\n",
    "#despues necesitamos un contador de la suma de emisiones segun el año y la region\n",
    "\n",
    "emisiones = 0\n",
    "\n",
    "#realizammos un for para recorrer el diccionarios segun lo que necsitamos\n",
    "\n",
    "for indice,elmento in enumerate(dicc_emisiones[\"region\"]):\n",
    "    # si en el diccionario en la clave de region, año y co2 diferente de cero es igual al filtro que me sume los valores de c02\n",
    "    if dicc_emisiones[\"region\"][indice] == filtro_region and dicc_emisiones[\"anio\"][indice] == filtro_anio and dicc_emisiones[\"co2\"][indice] != None:\n",
    "        emisiones += dicc_emisiones[\"co2\"][indice]\n",
    "print(f\"las emisiones en {filtro_region} y en el año {filtro_anio} fueron de {round(emisiones,3)}\")\n",
    "    "
   ]
  }
 ],
 "metadata": {
  "kernelspec": {
   "display_name": "Python 3.10.6 64-bit",
   "language": "python",
   "name": "python3"
  },
  "language_info": {
   "codemirror_mode": {
    "name": "ipython",
    "version": 3
   },
   "file_extension": ".py",
   "mimetype": "text/x-python",
   "name": "python",
   "nbconvert_exporter": "python",
   "pygments_lexer": "ipython3",
   "version": "3.10.6"
  },
  "orig_nbformat": 4,
  "vscode": {
   "interpreter": {
    "hash": "d90312a38fc1d0a22e54075737e7cbc9c4bce8201c3fcbae88019b0c90a84f0b"
   }
  }
 },
 "nbformat": 4,
 "nbformat_minor": 2
}
