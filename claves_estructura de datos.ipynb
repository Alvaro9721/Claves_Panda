{
 "cells": [
  {
   "cell_type": "markdown",
   "metadata": {},
   "source": [
    "SIEMPRE HAY QUE HACER LA CLASE nODOS"
   ]
  },
  {
   "cell_type": "code",
   "execution_count": null,
   "metadata": {},
   "outputs": [],
   "source": [
    "class Node:\n",
    "    def __init__(self, val):\n",
    "       \n",
    "        self.data = val\n",
    "        self.next = None\n",
    "        \n",
    " # data obtengo el valor\n",
    "    def getData(self):\n",
    "        return self.data\n",
    "# getNext obtengo la direccion\n",
    "    def getNext(self):\n",
    "        return self.next\n",
    "\n",
    "#asigno el valor\n",
    "    def setData(self, val):\n",
    "        self.data = val\n",
    "#asigno la direccion\n",
    "    def setNext(self, val):\n",
    "        self.next = val"
   ]
  },
  {
   "cell_type": "code",
   "execution_count": null,
   "metadata": {},
   "outputs": [],
   "source": [
    "# por donde empezar lo colocamos como head\n",
    "# mi puntero va a ser el n1\n",
    "head = n1\n",
    "puntero = head\n",
    "# mientras el puntero sea distinto de None, imprime el dato de cada nodo\n",
    "while puntero.getNext() != None:\n",
    "    print(puntero.getData())\n",
    "    #como el puntero cuando llegue a su ultima iteracion va a ser cero(getNext) que me imprima eso\n",
    "    # esto quiere decir que puntero va a ser hacia donde va osea el n3\n",
    "    puntero= puntero.getNext() #aca  me da el valor del nodo hacia donde se dirige\n",
    "print(puntero.getData())\n"
   ]
  }
 ],
 "metadata": {
  "kernelspec": {
   "display_name": "Python 3.10.7 64-bit (microsoft store)",
   "language": "python",
   "name": "python3"
  },
  "language_info": {
   "name": "python",
   "version": "3.10.7"
  },
  "orig_nbformat": 4,
  "vscode": {
   "interpreter": {
    "hash": "163d498d01464e50079bf879f7a9c6f977f71c6bd01af07dba10323051718e53"
   }
  }
 },
 "nbformat": 4,
 "nbformat_minor": 2
}
