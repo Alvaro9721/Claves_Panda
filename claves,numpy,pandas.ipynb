{
 "cells": [
  {
   "cell_type": "markdown",
   "metadata": {},
   "source": [
    "Claves numpy"
   ]
  },
  {
   "cell_type": "code",
   "execution_count": null,
   "metadata": {},
   "outputs": [],
   "source": [
    "# para obtener un numero randdom \n",
    "from random import sample\n",
    "\n",
    "\n",
    "azar = sample(range(1,100),20)\n",
    "\n",
    "\n",
    "#para crear un array a partir de una lista\n",
    "lista = [0,2,3,4,5,6,7,8,9]\n",
    "arreglo = np.array(lista)\n",
    "\n",
    "#crear un arreglo de 3 dimensiones a partir de una lista\n",
    "arreglo = np.array([[1,2,3,4,5,6],[1,2,3,4,5,6],[1,2,3,4,5,6]])\n",
    "\n",
    "#Funcion arange (comienza,termina, espacio)\n",
    "arreglo = np.arange(10)\n",
    "\n",
    "#sumar un elemento\n",
    " arreglo=arreglo+1\n",
    " \n",
    " #sumar todos los elementos de un arreglo sum\n",
    " arreglo.sum()\n",
    " \n",
    " # para ver la dimencionalidad\n",
    " arreglo.shape\n",
    " \n",
    " #arreglo x espaciados\n",
    " b=np.linspace(0,9,100)\n",
    " \n",
    " #crear una matriz booleana\n",
    "np.full((3,3),True,dtype=bool)\n",
    "\n",
    "#Para explorar las funciones de creación de datos aleatorios:\n",
    "https://numpy.org/doc/stable/reference/random/legacy.html\n",
    "\n",
    "\n",
    "#Escribir un arreglo con números enteros del 10 al 100 y seleccionar aquellos que son divisibles por 3<br>\n",
    "\n",
    "x = np.arange(10,101)\n",
    "mascara= ((x % 3)== 0)\n",
    "print(x[mascara])"
   ]
  },
  {
   "cell_type": "code",
   "execution_count": null,
   "metadata": {},
   "outputs": [],
   "source": []
  },
  {
   "cell_type": "code",
   "execution_count": 2,
   "metadata": {},
   "outputs": [],
   "source": [
    "import pandas as pd\n",
    "import numpy as np"
   ]
  },
  {
   "cell_type": "markdown",
   "metadata": {},
   "source": [
    "CLAVES PARA SERIES"
   ]
  },
  {
   "cell_type": "code",
   "execution_count": 8,
   "metadata": {},
   "outputs": [],
   "source": [
    "#DECLARAR UNA SERIE con (s) mayuscula\n",
    "\n",
    "a = pd.Series([1,2,3,4,5,6,7,8,9])\n",
    "\n",
    "\n",
    "#declarar una serie con indices\n",
    "b = pd.Series([1,2,3,4,5,6,7,8,9], index=[\"a\",\"b\",\"c\",\"a\",\"b\",\"c\",\"a\",\"b\",\"c\"])\n"
   ]
  },
  {
   "cell_type": "code",
   "execution_count": 13,
   "metadata": {},
   "outputs": [
    {
     "data": {
      "text/plain": [
       "RangeIndex(start=0, stop=9, step=1)"
      ]
     },
     "execution_count": 13,
     "metadata": {},
     "output_type": "execute_result"
    }
   ],
   "source": [
    "#BUSCAR LOS ATRIBUTOS DE UNA SERIE, te entrega el tipo de dato y los valoes\n",
    "a.values\n",
    "\n",
    "#LA FUNCION \"INDEX\" JTE ENTREGA INFORMACION DE LA SERIE, DONDE COMIENZA,DONDE ACABA, Y Y CADA CUANTO ESTAN LOS NUMEROS\n",
    "# o si los datos son STR te devueleve los datos como tal\n",
    "a.index"
   ]
  },
  {
   "cell_type": "code",
   "execution_count": null,
   "metadata": {},
   "outputs": [],
   "source": [
    "#DICCIONARIOS Y SERIES\n",
    "#PARA TRANSFORMAR UN DICCIONARIO EN SERIE DEBEMOS TENER CLARO QUE LAS CLAVES DE DEL DICCIONARIO SE VAN A CONVERTIR EN LOS INDICES DE LAS SERIES.\n",
    "#pd es el modulo de panda\n",
    "nombre_serie = pd.Series(nombre_del_diccionario)\n",
    "print(nombre_del_diccionario)\n",
    "\n"
   ]
  },
  {
   "cell_type": "code",
   "execution_count": null,
   "metadata": {},
   "outputs": [],
   "source": [
    "#para escoger desde un indice al otro\n",
    "nombre de la serie['California':'New York']"
   ]
  },
  {
   "cell_type": "code",
   "execution_count": null,
   "metadata": {},
   "outputs": [],
   "source": [
    "# Un escalar repetido a lo largo de un índice\n",
    "pd.Series(5, index = [100, 200, 300])\n",
    "\n",
    "# Un diccionario\n",
    "pd.Series({2:'a', 1:'b', 3:'c'}) "
   ]
  },
  {
   "cell_type": "code",
   "execution_count": 3,
   "metadata": {},
   "outputs": [
    {
     "data": {
      "text/plain": [
       "Tortuga       reptil\n",
       "Zorro       mamífero\n",
       "Paloma           ave\n",
       "Elefante    mamífero\n",
       "dtype: object"
      ]
     },
     "execution_count": 3,
     "metadata": {},
     "output_type": "execute_result"
    }
   ],
   "source": [
    "import pandas as pd\n",
    "#para relacionar dos listas en una serie\n",
    "animales = ['Tortuga', 'Zorro', 'Paloma', 'Elefante']\n",
    "tipo = ['reptil', 'mamífero', 'ave', 'mamífero']\n",
    "obj = pd.Series(tipo, index=animales)\n",
    "obj"
   ]
  },
  {
   "cell_type": "markdown",
   "metadata": {},
   "source": [
    "CLAVES PARA DATAFRAME"
   ]
  },
  {
   "cell_type": "code",
   "execution_count": null,
   "metadata": {},
   "outputs": [],
   "source": [
    "#PARA CONSTRUIR UN DATA FRAME DESDE DOS SERIES\n",
    "\n",
    "nombre_del_dataframe = pd.DataFrame({\"NOMBRE DE LA PRIMERA SERIE\":NOMBRE DE LA PRIMERA SERIE,\"NOMBRE DE LA SEGUNDA SERIE\":NOMBRE DE LA SEGUNDA})\n"
   ]
  },
  {
   "cell_type": "code",
   "execution_count": null,
   "metadata": {},
   "outputs": [],
   "source": [
    "pd.DataFrame(np.random.rand(3, 2),\n",
    "             columns=['foo', 'bar'],\n",
    "             index=['a', 'b', 'c'])"
   ]
  },
  {
   "cell_type": "code",
   "execution_count": null,
   "metadata": {},
   "outputs": [],
   "source": [
    "#MANEJA EL MISMO INDEX QUE LA SERIE, AHORA SE PUEDEN SACAR LOS NOMBRES DE CADA SERIE QUE SERIA LAS COLUMNAS\n",
    "\n",
    "NOMBRE_DataFrame.colums"
   ]
  },
  {
   "cell_type": "markdown",
   "metadata": {},
   "source": [
    "ARMAR OTRA SERIE DE UN DATAFRAME"
   ]
  },
  {
   "cell_type": "code",
   "execution_count": null,
   "metadata": {},
   "outputs": [],
   "source": [
    "#para agregar otra serie al dataframe\n",
    "nombre_dataframe[\"nombre de la serie\"]=[la serie]\n",
    "\n",
    "#tambien se puden hacer operaciones(+,-,/,*) con las series ya esxitentes en el dataframe\n",
    "# me da como resultado otra serie y la agrega al dataframe\n",
    "nombre_dataframe[\"nombre de la serie\"]=nombre_dataframe[la serie]/nombre_dataframe[la serie]\n",
    "\n",
    "#crear una serie nuevva en el dataframe aplicando una funcion has\n",
    "#a mi df en la columna nom_pais le voy a aplicar la funcion hash\n",
    "df[\"Clave_Hash\"]=df[\"cod_pais\"].apply(hash_function)\n"
   ]
  },
  {
   "cell_type": "code",
   "execution_count": 16,
   "metadata": {},
   "outputs": [
    {
     "data": {
      "text/plain": [
       "Int64Index([2, 3, 4, 5, 6, 7, 8, 9], dtype='int64')"
      ]
     },
     "execution_count": 16,
     "metadata": {},
     "output_type": "execute_result"
    }
   ],
   "source": [
    "#index\n",
    "#index\n",
    "ind=pd.Index([2,3,4,5,6,7,8,9])\n",
    "ind"
   ]
  },
  {
   "cell_type": "code",
   "execution_count": null,
   "metadata": {},
   "outputs": [],
   "source": [
    "indA = pd.Index([1, 3, 5, 7, 9])\n",
    "indB = pd.Index([2, 3, 5, 7, 11])\n",
    "#PARA QUE ME SIRVE INDEX \n",
    "\n",
    "#PARA HACER UNIONES DE INDEX\n",
    "indA | indB  # union\n",
    "\n",
    "#PARA SACAR LA INTERSECCION\n",
    "indA & indB  # intersection\n",
    "\n",
    "#PARA SACAR LOS ELEMENTOS DIFERENTEES DE LAS LISTAS\n",
    "indA ^ indB  # symmetric difference"
   ]
  },
  {
   "cell_type": "code",
   "execution_count": 17,
   "metadata": {},
   "outputs": [
    {
     "data": {
      "text/html": [
       "<div>\n",
       "<style scoped>\n",
       "    .dataframe tbody tr th:only-of-type {\n",
       "        vertical-align: middle;\n",
       "    }\n",
       "\n",
       "    .dataframe tbody tr th {\n",
       "        vertical-align: top;\n",
       "    }\n",
       "\n",
       "    .dataframe thead th {\n",
       "        text-align: right;\n",
       "    }\n",
       "</style>\n",
       "<table border=\"1\" class=\"dataframe\">\n",
       "  <thead>\n",
       "    <tr style=\"text-align: right;\">\n",
       "      <th></th>\n",
       "      <th>tipo_vivienda</th>\n",
       "      <th>m2</th>\n",
       "    </tr>\n",
       "  </thead>\n",
       "  <tbody>\n",
       "    <tr>\n",
       "      <th>0</th>\n",
       "      <td>casa</td>\n",
       "      <td>35</td>\n",
       "    </tr>\n",
       "    <tr>\n",
       "      <th>1</th>\n",
       "      <td>departamento</td>\n",
       "      <td>49</td>\n",
       "    </tr>\n",
       "  </tbody>\n",
       "</table>\n",
       "</div>"
      ],
      "text/plain": [
       "  tipo_vivienda  m2\n",
       "0          casa  35\n",
       "1  departamento  49"
      ]
     },
     "execution_count": 17,
     "metadata": {},
     "output_type": "execute_result"
    }
   ],
   "source": [
    "#ARMANDO UN DATAFRAME CON OBJETOS\n",
    "d = {'tipo_vivienda': ['casa', 'departamento'], 'm2': [35, 49]}\n",
    "df = pd.DataFrame(data=d)\n",
    "df"
   ]
  },
  {
   "cell_type": "markdown",
   "metadata": {},
   "source": [
    "cargar un data farme o exportarlo"
   ]
  },
  {
   "cell_type": "code",
   "execution_count": null,
   "metadata": {},
   "outputs": [],
   "source": [
    "#exportar un dataframe\n",
    "\n",
    "df_copia.to_excel(\"la ruta donde la vamos a poner\")"
   ]
  },
  {
   "cell_type": "markdown",
   "metadata": {},
   "source": [
    "Exportamos el csv ya transformado"
   ]
  },
  {
   "cell_type": "code",
   "execution_count": null,
   "metadata": {},
   "outputs": [],
   "source": [
    "semanal.to_csv('Clase_04_temperatura_transf.csv')"
   ]
  },
  {
   "cell_type": "markdown",
   "metadata": {},
   "source": [
    "Agregar columna de fechas del propio dataframe con import datetime"
   ]
  },
  {
   "cell_type": "code",
   "execution_count": null,
   "metadata": {},
   "outputs": [],
   "source": [
    "data['fecha'] = pd.to_datetime({'year':data.anio, 'month': data.mes, 'day': data.dia}) "
   ]
  },
  {
   "cell_type": "markdown",
   "metadata": {},
   "source": [
    "Pasar las fechas a formato numero"
   ]
  },
  {
   "cell_type": "code",
   "execution_count": null,
   "metadata": {},
   "outputs": [],
   "source": [
    "semanal['fecha_numeros']=semanal.index.map(datetime.datetime.toordinal)"
   ]
  },
  {
   "cell_type": "markdown",
   "metadata": {},
   "source": [
    "Filtrar por lo que necesitamos"
   ]
  },
  {
   "cell_type": "code",
   "execution_count": null,
   "metadata": {},
   "outputs": [],
   "source": [
    "vinos=pd.read_csv(\"wine_reviews.csv\",usecols=fields)\n",
    "vinos_argentina=vinos[vinos[\"country\"]==\"Argentina\"]\n",
    "vinos_argentina.head()"
   ]
  },
  {
   "cell_type": "markdown",
   "metadata": {},
   "source": [
    "df_compra[(df_compra.IdProducto == 42880) & (df_compra.Fecha_Año >= 2020)][['Fecha_Numerico','Cantidad']]"
   ]
  },
  {
   "cell_type": "code",
   "execution_count": null,
   "metadata": {},
   "outputs": [],
   "source": [
    "x = df_compra[(df_compra.IdProducto == 42880) & (df_compra.Fecha_Año == 2020)].Fecha_Numerico\n",
    "y = df_compra[(df_compra.IdProducto == 42880) & (df_compra.Fecha_Año == 2020)].Cantidad"
   ]
  },
  {
   "cell_type": "markdown",
   "metadata": {},
   "source": [
    "La separación entre los datos de entrenamiento y prueba, lo hacemos en base a períodos\n",
    "Cuando es por fecha"
   ]
  },
  {
   "cell_type": "code",
   "execution_count": null,
   "metadata": {},
   "outputs": [],
   "source": [
    "X_train = df_compra[(df_compra.IdProducto == 42880) & (df_compra.Fecha_Periodo >= 201901) & (df_compra.Fecha_Periodo < 202008)].Fecha_Numerico.values\n",
    "y_train = df_compra[(df_compra.IdProducto == 42880) & (df_compra.Fecha_Periodo >= 201901) & (df_compra.Fecha_Periodo < 202008)].Cantidad.values\n",
    "X_test = df_compra[(df_compra.IdProducto == 42880) & (df_compra.Fecha_Periodo >= 202008)].Fecha_Numerico.values\n",
    "y_test = df_compra[(df_compra.IdProducto == 42880) & (df_compra.Fecha_Periodo >= 202008)].Cantidad.values"
   ]
  },
  {
   "cell_type": "markdown",
   "metadata": {},
   "source": [
    "#CARGAR UN DATAFRAME SOLO LAS COLUMNAS QUE NOS INTERESAN"
   ]
  },
  {
   "cell_type": "code",
   "execution_count": null,
   "metadata": {},
   "outputs": [],
   "source": [
    "import pandas as pd\n",
    "# Definimos las columnas que nos interesan\n",
    "fields = ['country', 'points','price', 'variety']\n",
    "# Cargamos el DataFrame solo con esas columnas\n",
    "wine_reviews = pd.read_csv('wine_reviews.csv', usecols = fields)"
   ]
  },
  {
   "cell_type": "code",
   "execution_count": null,
   "metadata": {},
   "outputs": [],
   "source": [
    "\n",
    "\n",
    "#cambiar los \\ por /\n",
    "df_emisiones = pd.read_csv('../Clase 02/Emisiones_CO2.csv', sep='|', encoding='latin-1', decimal=',', thousands='.')\n",
    "\n",
    "\n",
    "#VER INFORMACION DE LA BASE DE DATOS \n",
    "df_emisiones.info()\n",
    "\n",
    "#CAMBIAR LOS ELEMENTOS \"NA\" DE UNA SERIE\n",
    "df_emisiones.fillna(0)\n",
    "\n",
    "#eliminar columnas\n",
    "wine_reviews.drop(columns=['Unnamed: 0'], inplace = True)\n",
    "\n",
    "#eliminar vairas columnas\n",
    "\n",
    "wine_reviews.drop([\"otra columna\",'Unnamed:',\"otyra\"], inplace = True, axis=1)\n",
    "\n",
    "#ELIMINAR LAS FILAS QUE CONTENGAN UN UN ELEMETNO NA  EL INPLACE SE PONE CUANDO YA ESTMOS SEGURO QUE LA VAMOS A CAMBIAR\n",
    "df_emisiones.dropna(inplace=True)\n",
    "\n",
    "#cuantos valores no nulos necesito o valores minimos thresh es el minimo de valores para no eliminar la fila o la colmbn\n",
    "wine_reviews_copia.dropna(axis = 1, inplace = True)\n",
    "wine_reviews_copia.dropna(inplace = True, thresh=3)\n",
    "\n",
    "usuarios_df.dropna(subset=['edad']) # para un dataframe que elimine un NA de una serie en especifico\n",
    " \n",
    " #CAMBIAR NOMBRES A UNAS SERIES DE UN DATAFRAME\n",
    " df_emisiones.rename(columns={'CO2 (kt)':'Emisiones_CO2', \n",
    "                            'CO2 per cápita (toneladas métricas)':'Emisiones_CO2_percapita'}, \n",
    "                            inplace=True)\n",
    " \n",
    " #Este método devuelve una copia de la cadena en la que todos los caracteres basados ​​en mayúsculas y minúsculas se han escrito en minúsculas.\n",
    " def reemplazo(var):\n",
    "    return var.lower()\n",
    "\n",
    "#APPLY\n",
    "#Aplicar una función a lo largo de un eje del DataFrame.\n",
    "df_emisiones['Región'].apply(reemplazo)\n",
    "\n",
    "usuarios_df.applymap(lambda x: x/2) # Se aplica elemento a elemento. En las series podemos usar directamente serie.map\n",
    "\n",
    "#FUNCION LAMDDA X : X.LOWER()\n",
    "df_emisiones['Región'].apply(lambda x: x.lower())\n",
    "\n",
    "\n",
    "#FILTAR DOS SERIES\n",
    "df_emisiones[(df_emisiones['Año'] == 2010) \n",
    "                & (df_emisiones['Nombre del país']=='Angola')].Emisiones_CO2.sum()\n",
    "\n",
    "#SOLO ITERAR LOS QUE ESTAN DENTRO DEL HEAD\n",
    "df_emisiones.head(10)\n",
    "\n",
    "\n",
    "#CAMBIAR UNA COMA `(,) POR PUNTOS (.) Y VISEVERSA\n",
    "df_emisiones['Emisiones_CO2'] = df_emisiones['Emisiones_CO2'].replace('.','')\n",
    "df_emisiones['Emisiones_CO2'] = df_emisiones['Emisiones_CO2'].replace(',','.')\n",
    "\n",
    "\n"
   ]
  },
  {
   "cell_type": "markdown",
   "metadata": {},
   "source": [
    "ANALISIS DESCRIPTIVO PARA PANDAS"
   ]
  },
  {
   "cell_type": "code",
   "execution_count": null,
   "metadata": {},
   "outputs": [],
   "source": [
    "df.info() #me regala las columnas el tipo de datos\n",
    "\n",
    "df.describe() #nos da los estadisticos\n",
    "\n",
    "df.loc[0, 'Team']\n",
    "\n",
    "df.iloc[0, [1]] # tengo que ingresar los indices numericos\n",
    "\n",
    "df.iloc[2] #me regala toda la fila del datafreme\n",
    "\n",
    "df.shape\n",
    "df.columns\n",
    "\n",
    "#hay na en dataframe\n",
    "usuarios_df.isna()\n",
    "\n",
    "#Devuelve las últimas n filas.\n",
    "df.tail(4)"
   ]
  },
  {
   "cell_type": "markdown",
   "metadata": {},
   "source": [
    "Correcalcion en un solo producto"
   ]
  },
  {
   "cell_type": "code",
   "execution_count": null,
   "metadata": {},
   "outputs": [],
   "source": [
    "df_compra[(df_compra.IdProducto == 42880) & (df_compra.Fecha_Año >= 2020)][['Fecha_Numerico','Cantidad']].corr()"
   ]
  },
  {
   "cell_type": "markdown",
   "metadata": {},
   "source": [
    "unique y value_counts()"
   ]
  },
  {
   "cell_type": "code",
   "execution_count": null,
   "metadata": {},
   "outputs": [],
   "source": [
    "#Devuelve valores únicos basados ​​en una tabla hash.\n",
    "#Los únicos se devuelven en orden de aparición. Esto NO se ordena\n",
    "df['Team'].unique()\n",
    "\n",
    "#Devuelve una Serie que contiene recuentos de filas únicas en el DataFrame.\n",
    "df.Team.value_counts() #contar los valores de la columna\n",
    "\n",
    "df.value_counts ( subconjunto = Ninguno , normalizar = Falso , ordenar = Verdadero , ascendente = Falso , dropna = Verdadero )\n",
    "#Parámetros\n",
    "#subconjunto similar a una lista, opcional\n",
    "#Columnas para usar al contar combinaciones únicas.\n",
    "\n",
    "#normalizar booleano, por defecto Falso\n",
    "#Devuelve proporciones en lugar de frecuencias.\n",
    "\n",
    "#ordenar booleano, por defecto Verdadero\n",
    "#Ordenar por frecuencias.\n",
    "\n",
    "#bool ascendente , por defecto falso\n",
    "#Ordenar en orden ascendente.\n",
    "\n",
    "#dropna bool, por defecto Verdadero\n",
    "#No incluya recuentos de filas que contengan valores NA.\n",
    "\n",
    "#nos da la correlacion de cada serie\n",
    "df.corr()"
   ]
  },
  {
   "cell_type": "markdown",
   "metadata": {},
   "source": [
    "ORDENAR DATOS"
   ]
  },
  {
   "cell_type": "code",
   "execution_count": null,
   "metadata": {},
   "outputs": [],
   "source": [
    "df.sort_index() #ordena los valores segun los indices\n",
    "\n",
    "\n",
    "#ORDENAR LOS VALORES DEL DATAFRAME SEFUN  LA SERIE QUE QUERAMOS\n",
    "df.sort_values([\"Goal Scored\"], ascending=False).head()"
   ]
  },
  {
   "cell_type": "markdown",
   "metadata": {},
   "source": [
    "TABLAS DINAMICAS"
   ]
  },
  {
   "cell_type": "code",
   "execution_count": null,
   "metadata": {},
   "outputs": [],
   "source": [
    "import numpy as np\n",
    "df.pivot_table(index='Team', columns='Round', values='Goal Scored', aggfunc=np.sum)"
   ]
  },
  {
   "cell_type": "markdown",
   "metadata": {},
   "source": [
    "Concatenar dataframe"
   ]
  },
  {
   "cell_type": "code",
   "execution_count": 2,
   "metadata": {},
   "outputs": [],
   "source": [
    "import pandas as pd"
   ]
  },
  {
   "cell_type": "code",
   "execution_count": 6,
   "metadata": {},
   "outputs": [
    {
     "name": "stderr",
     "output_type": "stream",
     "text": [
      "C:\\Users\\casa\\AppData\\Local\\Temp\\ipykernel_14916\\3105961593.py:27: FutureWarning: The frame.append method is deprecated and will be removed from pandas in a future version. Use pandas.concat instead.\n",
      "  df1.append(df2) # Append es otra forma de fácilmente concatenerar\n"
     ]
    },
    {
     "data": {
      "text/html": [
       "<div>\n",
       "<style scoped>\n",
       "    .dataframe tbody tr th:only-of-type {\n",
       "        vertical-align: middle;\n",
       "    }\n",
       "\n",
       "    .dataframe tbody tr th {\n",
       "        vertical-align: top;\n",
       "    }\n",
       "\n",
       "    .dataframe thead th {\n",
       "        text-align: right;\n",
       "    }\n",
       "</style>\n",
       "<table border=\"1\" class=\"dataframe\">\n",
       "  <thead>\n",
       "    <tr style=\"text-align: right;\">\n",
       "      <th></th>\n",
       "      <th>A</th>\n",
       "      <th>B</th>\n",
       "      <th>C</th>\n",
       "      <th>D</th>\n",
       "    </tr>\n",
       "  </thead>\n",
       "  <tbody>\n",
       "    <tr>\n",
       "      <th>0</th>\n",
       "      <td>A0</td>\n",
       "      <td>B0</td>\n",
       "      <td>C0</td>\n",
       "      <td>D0</td>\n",
       "    </tr>\n",
       "    <tr>\n",
       "      <th>1</th>\n",
       "      <td>A1</td>\n",
       "      <td>B1</td>\n",
       "      <td>C1</td>\n",
       "      <td>D1</td>\n",
       "    </tr>\n",
       "    <tr>\n",
       "      <th>2</th>\n",
       "      <td>A2</td>\n",
       "      <td>B2</td>\n",
       "      <td>C2</td>\n",
       "      <td>D2</td>\n",
       "    </tr>\n",
       "    <tr>\n",
       "      <th>3</th>\n",
       "      <td>A3</td>\n",
       "      <td>B3</td>\n",
       "      <td>C3</td>\n",
       "      <td>D3</td>\n",
       "    </tr>\n",
       "    <tr>\n",
       "      <th>4</th>\n",
       "      <td>A4</td>\n",
       "      <td>B4</td>\n",
       "      <td>C4</td>\n",
       "      <td>D4</td>\n",
       "    </tr>\n",
       "    <tr>\n",
       "      <th>5</th>\n",
       "      <td>A5</td>\n",
       "      <td>B5</td>\n",
       "      <td>C5</td>\n",
       "      <td>D5</td>\n",
       "    </tr>\n",
       "    <tr>\n",
       "      <th>6</th>\n",
       "      <td>A6</td>\n",
       "      <td>B6</td>\n",
       "      <td>C6</td>\n",
       "      <td>D6</td>\n",
       "    </tr>\n",
       "    <tr>\n",
       "      <th>7</th>\n",
       "      <td>A7</td>\n",
       "      <td>B7</td>\n",
       "      <td>C7</td>\n",
       "      <td>D7</td>\n",
       "    </tr>\n",
       "  </tbody>\n",
       "</table>\n",
       "</div>"
      ],
      "text/plain": [
       "    A   B   C   D\n",
       "0  A0  B0  C0  D0\n",
       "1  A1  B1  C1  D1\n",
       "2  A2  B2  C2  D2\n",
       "3  A3  B3  C3  D3\n",
       "4  A4  B4  C4  D4\n",
       "5  A5  B5  C5  D5\n",
       "6  A6  B6  C6  D6\n",
       "7  A7  B7  C7  D7"
      ]
     },
     "execution_count": 6,
     "metadata": {},
     "output_type": "execute_result"
    }
   ],
   "source": [
    "df1 = pd.DataFrame({'A': ['A0', 'A1', 'A2', 'A3'],\n",
    "                    'B': ['B0', 'B1', 'B2', 'B3'],\n",
    "                    'C': ['C0', 'C1', 'C2', 'C3'],\n",
    "                    'D': ['D0', 'D1', 'D2', 'D3']},\n",
    "                    index=[0, 1, 2, 3])\n",
    "   \n",
    "\n",
    "df2 = pd.DataFrame({'A': ['A4', 'A5', 'A6', 'A7'],\n",
    "                    'B': ['B4', 'B5', 'B6', 'B7'],\n",
    "                    'C': ['C4', 'C5', 'C6', 'C7'],\n",
    "                    'D': ['D4', 'D5', 'D6', 'D7']},\n",
    "                    index=[4, 5, 6, 7])\n",
    "\n",
    "\n",
    "df3 = pd.DataFrame({'A': ['A8', 'A9', 'A10', 'A11'],\n",
    "                    'B': ['B8', 'B9', 'B10', 'B11'],\n",
    "                    'C': ['C8', 'C9', 'C10', 'C11']},\n",
    "                    index=[8, 9, 10, 11])\n",
    "\n",
    "frames = [df1, df2, df3]\n",
    "\n",
    "\n",
    "cont=pd.concat(frames)\n",
    "\n",
    "\n",
    "pd.concat([df1, df3], axis=1) # Concatenación horizontal\n",
    "df1.append(df2) # Append es otra forma de fácilmente concatenerar"
   ]
  },
  {
   "cell_type": "code",
   "execution_count": 7,
   "metadata": {},
   "outputs": [
    {
     "data": {
      "text/html": [
       "<div>\n",
       "<style scoped>\n",
       "    .dataframe tbody tr th:only-of-type {\n",
       "        vertical-align: middle;\n",
       "    }\n",
       "\n",
       "    .dataframe tbody tr th {\n",
       "        vertical-align: top;\n",
       "    }\n",
       "\n",
       "    .dataframe thead th {\n",
       "        text-align: right;\n",
       "    }\n",
       "</style>\n",
       "<table border=\"1\" class=\"dataframe\">\n",
       "  <thead>\n",
       "    <tr style=\"text-align: right;\">\n",
       "      <th></th>\n",
       "      <th>A</th>\n",
       "      <th>B</th>\n",
       "      <th>C</th>\n",
       "      <th>D</th>\n",
       "    </tr>\n",
       "  </thead>\n",
       "  <tbody>\n",
       "    <tr>\n",
       "      <th>0</th>\n",
       "      <td>A0</td>\n",
       "      <td>B0</td>\n",
       "      <td>C0</td>\n",
       "      <td>D0</td>\n",
       "    </tr>\n",
       "    <tr>\n",
       "      <th>1</th>\n",
       "      <td>A1</td>\n",
       "      <td>B1</td>\n",
       "      <td>C1</td>\n",
       "      <td>D1</td>\n",
       "    </tr>\n",
       "    <tr>\n",
       "      <th>2</th>\n",
       "      <td>A2</td>\n",
       "      <td>B2</td>\n",
       "      <td>C2</td>\n",
       "      <td>D2</td>\n",
       "    </tr>\n",
       "    <tr>\n",
       "      <th>3</th>\n",
       "      <td>A3</td>\n",
       "      <td>B3</td>\n",
       "      <td>C3</td>\n",
       "      <td>D3</td>\n",
       "    </tr>\n",
       "    <tr>\n",
       "      <th>4</th>\n",
       "      <td>A4</td>\n",
       "      <td>B4</td>\n",
       "      <td>C4</td>\n",
       "      <td>D4</td>\n",
       "    </tr>\n",
       "    <tr>\n",
       "      <th>5</th>\n",
       "      <td>A5</td>\n",
       "      <td>B5</td>\n",
       "      <td>C5</td>\n",
       "      <td>D5</td>\n",
       "    </tr>\n",
       "    <tr>\n",
       "      <th>6</th>\n",
       "      <td>A6</td>\n",
       "      <td>B6</td>\n",
       "      <td>C6</td>\n",
       "      <td>D6</td>\n",
       "    </tr>\n",
       "    <tr>\n",
       "      <th>7</th>\n",
       "      <td>A7</td>\n",
       "      <td>B7</td>\n",
       "      <td>C7</td>\n",
       "      <td>D7</td>\n",
       "    </tr>\n",
       "    <tr>\n",
       "      <th>8</th>\n",
       "      <td>A8</td>\n",
       "      <td>B8</td>\n",
       "      <td>C8</td>\n",
       "      <td>NaN</td>\n",
       "    </tr>\n",
       "    <tr>\n",
       "      <th>9</th>\n",
       "      <td>A9</td>\n",
       "      <td>B9</td>\n",
       "      <td>C9</td>\n",
       "      <td>NaN</td>\n",
       "    </tr>\n",
       "    <tr>\n",
       "      <th>10</th>\n",
       "      <td>A10</td>\n",
       "      <td>B10</td>\n",
       "      <td>C10</td>\n",
       "      <td>NaN</td>\n",
       "    </tr>\n",
       "    <tr>\n",
       "      <th>11</th>\n",
       "      <td>A11</td>\n",
       "      <td>B11</td>\n",
       "      <td>C11</td>\n",
       "      <td>NaN</td>\n",
       "    </tr>\n",
       "  </tbody>\n",
       "</table>\n",
       "</div>"
      ],
      "text/plain": [
       "      A    B    C    D\n",
       "0    A0   B0   C0   D0\n",
       "1    A1   B1   C1   D1\n",
       "2    A2   B2   C2   D2\n",
       "3    A3   B3   C3   D3\n",
       "4    A4   B4   C4   D4\n",
       "5    A5   B5   C5   D5\n",
       "6    A6   B6   C6   D6\n",
       "7    A7   B7   C7   D7\n",
       "8    A8   B8   C8  NaN\n",
       "9    A9   B9   C9  NaN\n",
       "10  A10  B10  C10  NaN\n",
       "11  A11  B11  C11  NaN"
      ]
     },
     "execution_count": 7,
     "metadata": {},
     "output_type": "execute_result"
    }
   ],
   "source": [
    "cont"
   ]
  },
  {
   "cell_type": "markdown",
   "metadata": {},
   "source": [
    "Completar valores"
   ]
  },
  {
   "cell_type": "code",
   "execution_count": null,
   "metadata": {},
   "outputs": [],
   "source": [
    "usuarios_df = pd.DataFrame({'edad': [np.nan, 20, 41, 20, 22, 25],\n",
    "                            'clics_por_hora': [156, np.nan, 210, 210, 100, np.nan],\n",
    "                            'genero': ['m','f','f','f','m','f']})\n",
    "usuarios_df\n",
    "usuarios_df_m = usuarios_df[usuarios_df['genero'] == 'm']\n",
    "usuarios_df_f = usuarios_df[usuarios_df['genero'] == 'f']\n",
    "\n",
    "#completar valores\n",
    "usuarios_df_m['edad'].fillna(usuarios_df_m.edad.mean())\n",
    "copia_df['edad'].fillna(usuarios_df.edad.mean())\n",
    "\n",
    "\n",
    "#cuando ya este seguro inplace=true\n",
    "\n",
    "copia_df.fillna(usuarios_df.edad.mean(), inplace=True) # Podemos elegir con qué completar los valores faltantes.\n",
    "\n",
    "\n",
    "print(wine_reviews.price.mean())\n",
    "print(wine_reviews.price.mode()[0])\n",
    "print(wine_reviews.price.median())\n",
    "print(wine_reviews.price.std())"
   ]
  },
  {
   "cell_type": "code",
   "execution_count": null,
   "metadata": {},
   "outputs": [],
   "source": [
    "#applymap\n",
    "\n",
    "#se le aplica a cada elemento del dataframe\n",
    "\n",
    "usuarios_df.applymap(lambda x: x/2) # Se aplica elemento a elemento. En las series podemos usar directamente serie.map"
   ]
  },
  {
   "cell_type": "markdown",
   "metadata": {},
   "source": [
    "Borrando duplicados"
   ]
  },
  {
   "cell_type": "code",
   "execution_count": 1,
   "metadata": {},
   "outputs": [],
   "source": [
    "import pandas as pd\n",
    "import numpy as np"
   ]
  },
  {
   "cell_type": "code",
   "execution_count": 2,
   "metadata": {},
   "outputs": [
    {
     "data": {
      "text/html": [
       "<div>\n",
       "<style scoped>\n",
       "    .dataframe tbody tr th:only-of-type {\n",
       "        vertical-align: middle;\n",
       "    }\n",
       "\n",
       "    .dataframe tbody tr th {\n",
       "        vertical-align: top;\n",
       "    }\n",
       "\n",
       "    .dataframe thead th {\n",
       "        text-align: right;\n",
       "    }\n",
       "</style>\n",
       "<table border=\"1\" class=\"dataframe\">\n",
       "  <thead>\n",
       "    <tr style=\"text-align: right;\">\n",
       "      <th></th>\n",
       "      <th>edad</th>\n",
       "      <th>clics_por_hora</th>\n",
       "      <th>genero</th>\n",
       "    </tr>\n",
       "  </thead>\n",
       "  <tbody>\n",
       "    <tr>\n",
       "      <th>0</th>\n",
       "      <td>NaN</td>\n",
       "      <td>156.0</td>\n",
       "      <td>m</td>\n",
       "    </tr>\n",
       "    <tr>\n",
       "      <th>1</th>\n",
       "      <td>20.0</td>\n",
       "      <td>NaN</td>\n",
       "      <td>f</td>\n",
       "    </tr>\n",
       "    <tr>\n",
       "      <th>2</th>\n",
       "      <td>41.0</td>\n",
       "      <td>210.0</td>\n",
       "      <td>f</td>\n",
       "    </tr>\n",
       "    <tr>\n",
       "      <th>3</th>\n",
       "      <td>20.0</td>\n",
       "      <td>210.0</td>\n",
       "      <td>f</td>\n",
       "    </tr>\n",
       "    <tr>\n",
       "      <th>4</th>\n",
       "      <td>20.0</td>\n",
       "      <td>100.0</td>\n",
       "      <td>m</td>\n",
       "    </tr>\n",
       "    <tr>\n",
       "      <th>5</th>\n",
       "      <td>41.0</td>\n",
       "      <td>NaN</td>\n",
       "      <td>f</td>\n",
       "    </tr>\n",
       "  </tbody>\n",
       "</table>\n",
       "</div>"
      ],
      "text/plain": [
       "   edad  clics_por_hora genero\n",
       "0   NaN           156.0      m\n",
       "1  20.0             NaN      f\n",
       "2  41.0           210.0      f\n",
       "3  20.0           210.0      f\n",
       "4  20.0           100.0      m\n",
       "5  41.0             NaN      f"
      ]
     },
     "execution_count": 2,
     "metadata": {},
     "output_type": "execute_result"
    }
   ],
   "source": [
    "usuarios_df = pd.DataFrame({'edad': [np.nan, 20, 41, 20, 20, 41],\n",
    "                            'clics_por_hora': [156, np.nan, 210, 210, 100, np.nan],\n",
    "                            'genero': ['m','f','f','f','m','f']})\n",
    "usuarios_df"
   ]
  },
  {
   "cell_type": "markdown",
   "metadata": {},
   "source": [
    "PARA QUITAR DUPLICADOS"
   ]
  },
  {
   "cell_type": "code",
   "execution_count": 3,
   "metadata": {},
   "outputs": [],
   "source": [
    "usuarios_df.drop_duplicates(subset=['clics_por_hora'], keep='last', inplace=True) # Se puede jugar con el first, last, etc. Y también elegir en qué columnas\n",
    "\n",
    "#ESTA DENTRO DE DOS [] POR QUE LE VOY A ENTEGAR UNA LISTA DE COLUMNAS\n",
    "df_copia= df_copia[[\"cod_pais\",\"nom_pais\",\"region\",\"Clave_Hash\"]].drop_duplicates()\n",
    "\n",
    "(ignore_index = True) #ordenar el indice o se puede utilizar .reset_index()"
   ]
  },
  {
   "cell_type": "code",
   "execution_count": 4,
   "metadata": {},
   "outputs": [
    {
     "data": {
      "text/html": [
       "<div>\n",
       "<style scoped>\n",
       "    .dataframe tbody tr th:only-of-type {\n",
       "        vertical-align: middle;\n",
       "    }\n",
       "\n",
       "    .dataframe tbody tr th {\n",
       "        vertical-align: top;\n",
       "    }\n",
       "\n",
       "    .dataframe thead th {\n",
       "        text-align: right;\n",
       "    }\n",
       "</style>\n",
       "<table border=\"1\" class=\"dataframe\">\n",
       "  <thead>\n",
       "    <tr style=\"text-align: right;\">\n",
       "      <th></th>\n",
       "      <th>edad</th>\n",
       "      <th>clics_por_hora</th>\n",
       "      <th>genero</th>\n",
       "    </tr>\n",
       "  </thead>\n",
       "  <tbody>\n",
       "    <tr>\n",
       "      <th>0</th>\n",
       "      <td>NaN</td>\n",
       "      <td>156.0</td>\n",
       "      <td>m</td>\n",
       "    </tr>\n",
       "    <tr>\n",
       "      <th>3</th>\n",
       "      <td>20.0</td>\n",
       "      <td>210.0</td>\n",
       "      <td>f</td>\n",
       "    </tr>\n",
       "    <tr>\n",
       "      <th>4</th>\n",
       "      <td>20.0</td>\n",
       "      <td>100.0</td>\n",
       "      <td>m</td>\n",
       "    </tr>\n",
       "    <tr>\n",
       "      <th>5</th>\n",
       "      <td>41.0</td>\n",
       "      <td>NaN</td>\n",
       "      <td>f</td>\n",
       "    </tr>\n",
       "  </tbody>\n",
       "</table>\n",
       "</div>"
      ],
      "text/plain": [
       "   edad  clics_por_hora genero\n",
       "0   NaN           156.0      m\n",
       "3  20.0           210.0      f\n",
       "4  20.0           100.0      m\n",
       "5  41.0             NaN      f"
      ]
     },
     "execution_count": 4,
     "metadata": {},
     "output_type": "execute_result"
    }
   ],
   "source": [
    "usuarios_df"
   ]
  },
  {
   "cell_type": "markdown",
   "metadata": {},
   "source": [
    "#_Mayor puntaje"
   ]
  },
  {
   "cell_type": "code",
   "execution_count": null,
   "metadata": {},
   "outputs": [],
   "source": [
    "idxmax()\n",
    "wine_reviews.loc[wine_reviews.points.idxmax()]#[\"nombre de la serie\"]si quiero especificamente esa #me devuelve toda la informacion de esa fila\n",
    "\n",
    "\n",
    "\n",
    "#menor puntaje\n",
    "wine_reviews.loc[wine_reviews.points.idxmin()]\n"
   ]
  },
  {
   "cell_type": "markdown",
   "metadata": {},
   "source": [
    "__  ___________________________________________GRAFICOS_____________________________________________________________________"
   ]
  },
  {
   "cell_type": "markdown",
   "metadata": {},
   "source": [
    "Matriz de confusion\n",
    "\n",
    "from sklearn.metrics import ConfusionMatrixDisplay\n",
    "\n",
    "cm_display = ConfusionMatrixDisplay(matrix)\n",
    "cm_display_2 = ConfusionMatrixDisplay(matrix_2)\n"
   ]
  },
  {
   "cell_type": "markdown",
   "metadata": {},
   "source": [
    "En este caso, ya no es necesario limitar el eje Y por la miniaturización del gráfico que probocaba nuestro punto máximo.\n",
    "\n",
    "Práctiquemos un caso de uso la librería `datetime` para limitar el periodo temporal que queremos abarcar de nuestra serie."
   ]
  },
  {
   "cell_type": "code",
   "execution_count": null,
   "metadata": {},
   "outputs": [],
   "source": [
    "\n",
    "plt.xlim(datetime.date(2000,1,1), datetime.date(2015,1,1))\n"
   ]
  },
  {
   "cell_type": "code",
   "execution_count": null,
   "metadata": {},
   "outputs": [],
   "source": [
    "fig, ax = plt.subplots(figsize=(4,5))\n",
    "\n",
    "ax.matshow(matrix)\n",
    "for (i, j), z in np.ndenumerate(matrix):\n",
    "    ax.text(j, i, '{:0.1f}'.format(z), ha='center', va='center')\n",
    "plt.show()"
   ]
  },
  {
   "cell_type": "markdown",
   "metadata": {},
   "source": [
    "Matriz de confusion mas sencilla"
   ]
  },
  {
   "cell_type": "code",
   "execution_count": null,
   "metadata": {},
   "outputs": [],
   "source": [
    "cm_display.plot()\n",
    "plt.show()"
   ]
  },
  {
   "cell_type": "markdown",
   "metadata": {},
   "source": [
    "Graficar K-Means"
   ]
  },
  {
   "cell_type": "code",
   "execution_count": null,
   "metadata": {},
   "outputs": [],
   "source": [
    "sns.scatterplot(x = X1[:, 0], y = X1[:, -1], hue = etiquetas_1)\n",
    "sns.scatterplot(x = centros_1[:, 0], y = centros_1[:, 1],color='black', marker=\"+\", s=1000)\n",
    "plt.title('Datos y cluster para el dataset 1')\n",
    "plt.show()"
   ]
  },
  {
   "cell_type": "markdown",
   "metadata": {},
   "source": [
    "DBSCAN"
   ]
  },
  {
   "cell_type": "code",
   "execution_count": null,
   "metadata": {},
   "outputs": [],
   "source": [
    "def plot_DBSCAN(X1,labels_1,db_1,n_clusters_1):\n",
    "    # Creamos una máscara\n",
    "    core_samples_mask_1 = np.zeros_like(db_1.labels_, dtype=bool)\n",
    "    core_samples_mask_1[db_1.core_sample_indices_] = True\n",
    "    # Plot result\n",
    "\n",
    "    \n",
    "    unique_labels = set(labels_1)\n",
    "    colors = [plt.cm.Spectral(each)\n",
    "              for each in np.linspace(0, 1, len(unique_labels))]\n",
    "    for k, col in zip(unique_labels, colors):\n",
    "        if k == -1:\n",
    "            col = [0, 0, 0, 1]\n",
    "\n",
    "        class_member_mask = (labels_1 == k)\n",
    "\n",
    "        xy = X1[class_member_mask & core_samples_mask_1]\n",
    "        plt.plot(xy[:, 0], xy[:, 1], 'o', markerfacecolor=tuple(col),\n",
    "                 markeredgecolor='k', markersize=14)\n",
    "\n",
    "        xy = X1[class_member_mask & ~core_samples_mask_1]\n",
    "        plt.plot(xy[:, 0], xy[:, 1], 'o', markerfacecolor=tuple(col),\n",
    "                 markeredgecolor='k', markersize=6)\n",
    "    plt.title('Número estimado de clusters: %d' % n_clusters_1, fontsize = 15)\n",
    "    plt.show()\n",
    "    return"
   ]
  },
  {
   "cell_type": "markdown",
   "metadata": {},
   "source": [
    "Histograma"
   ]
  },
  {
   "cell_type": "code",
   "execution_count": null,
   "metadata": {},
   "outputs": [],
   "source": [
    "plt.hist(wine_reviews_copia.points, bins= 20)#, log = True)\n",
    "plt.xlabel('Puntaje')\n",
    "plt.grid() #AÑADIR CUADRICULADO\n",
    "plt.show()"
   ]
  },
  {
   "cell_type": "markdown",
   "metadata": {},
   "source": [
    "Fronteras de decision "
   ]
  },
  {
   "cell_type": "code",
   "execution_count": null,
   "metadata": {},
   "outputs": [],
   "source": [
    "ax = sns.scatterplot(x = X.iloc[:,0], y = X.iloc[:,1], hue= y, palette='Set2')\n",
    "plt.legend().remove()\n",
    "\n",
    "\n",
    "xlim = ax.get_xlim()\n",
    "ylim = ax.get_ylim()\n",
    "xx, yy = np.meshgrid(np.linspace(*xlim, num=200),\n",
    "                      np.linspace(*ylim, num=200))\n",
    "Z = clf.predict(np.c_[xx.ravel(), yy.ravel()]).reshape(xx.shape)\n",
    "\n",
    "contours = ax.contourf(xx, yy, Z, alpha=0.3, cmap = 'Set2')\n",
    "plt.tight_layout()\n",
    "plt.title('Fronteras de decisión', fontsize= 15)\n",
    "plt.show()"
   ]
  },
  {
   "cell_type": "markdown",
   "metadata": {},
   "source": [
    "Definimos una función para ayudarnos a graficar un heatmap de correlación"
   ]
  },
  {
   "cell_type": "code",
   "execution_count": null,
   "metadata": {},
   "outputs": [],
   "source": [
    "def plot_corre_heatmap(corr):\n",
    "    '''\n",
    "    Definimos una función para ayudarnos a graficar un heatmap de correlación\n",
    "    '''\n",
    "    plt.figure(figsize=(12,10))\n",
    "    sns.heatmap(corr, cbar = True,  square = False, annot=True, fmt= '.2f'\n",
    "                ,annot_kws={'size': 15},cmap= 'coolwarm')\n",
    "    plt.xticks(rotation = 45)\n",
    "    plt.yticks(rotation = 45)\n",
    "    # Arreglamos un pequeño problema de visualización\n",
    "    b, t = plt.ylim() # discover the values for bottom and top\n",
    "    b += 0.5 # Add 0.5 to the bottom\n",
    "    t -= 0.5 # Subtract 0.5 from the top\n",
    "    plt.ylim(b, t) # update the ylim(bottom, top) values\n",
    "    plt.show()"
   ]
  },
  {
   "cell_type": "markdown",
   "metadata": {},
   "source": [
    "comportamiento de los datos de un único producto aleatorio"
   ]
  },
  {
   "cell_type": "code",
   "execution_count": null,
   "metadata": {},
   "outputs": [],
   "source": [
    "plt.figure(figsize = (10,8))\n",
    "sns.lineplot(x = 'Fecha', y = 'Cantidad', data = df_compra[df_compra.IdProducto == 42880], hue = 'IdProducto')\n",
    "plt.show()"
   ]
  },
  {
   "cell_type": "markdown",
   "metadata": {},
   "source": [
    "Convertimos el campos Fecha a un valor numérico para utilizarlo como input al modelo de regresión"
   ]
  },
  {
   "cell_type": "code",
   "execution_count": null,
   "metadata": {},
   "outputs": [],
   "source": [
    "import datetime as dt\n",
    "df_compra['Fecha_Numerico']=df_compra['Fecha'].map(dt.datetime.toordinal)\n",
    "df_compra.head()"
   ]
  },
  {
   "cell_type": "markdown",
   "metadata": {},
   "source": [
    "automarizar grafico"
   ]
  },
  {
   "cell_type": "code",
   "execution_count": null,
   "metadata": {},
   "outputs": [],
   "source": [
    "mu = 20\n",
    "sigma = 4\n",
    "valores = mu + sigma * np.random.randn(10000)\n",
    "\n",
    "\n",
    "# Aca decidimos la cantidad de bines que queremos tomar\n",
    "for i_bin in [5,50,500,5000]:\n",
    "    # Creamos la figura y los ejes\n",
    "    fig, ax = plt.subplots()\n",
    "    # Ploteamos el histograma\n",
    "    n, bins, _ = ax.hist(valores, bins = i_bin)"
   ]
  },
  {
   "cell_type": "markdown",
   "metadata": {},
   "source": [
    "Convertir los valores de un data frrame para coordenadas"
   ]
  },
  {
   "cell_type": "code",
   "execution_count": null,
   "metadata": {},
   "outputs": [],
   "source": [
    "#para las coordenadas en x\n",
    "j=vinos_argentina.price.values\n",
    "\n",
    "#para las coordenadas en y\n",
    "k=vinos_argentina.points.values\n",
    "\n",
    "#creamos el scatter\n",
    "fig = plt.figure()\n",
    "ax = plt.axes()\n",
    "ax.scatter(j,k)\n",
    "ax.set(xlabel=\"Precio vinos\",ylabel=\"Puntaje\",title=\"precio vs puntaje\")"
   ]
  },
  {
   "cell_type": "markdown",
   "metadata": {},
   "source": [
    "FILTRANDO VALORES FALTANTES"
   ]
  },
  {
   "cell_type": "code",
   "execution_count": null,
   "metadata": {},
   "outputs": [],
   "source": [
    "#valores faltantes en cada columna\n",
    "wine_reviews.isna().sum()\n",
    "\n",
    "#PARA SABER SI HAY VALORES FALTANTES, TE DEVUELVE UN BOOLEANO TRUE OR FALSE\n",
    "usuarios_df.isna()\n",
    "\n",
    "u2 = usuarios_df.dropna()  # Puede borrarse toda fila que contenga un NaN o solamente en las columnas que especificamos\n",
    "usuarios_df.dropna(subset=['edad'])\n",
    "wine_reviews_copia.dropna(inplace = True, thresh=3) #cuantos minimos nulos\n",
    "\n",
    "\n",
    "\n",
    "#mas del 50% de valores faltantes\n",
    "wine_reviews_copia.dropna(axis = 1, inplace = True, thresh=wine_reviews_copia.shape[0]*0.5)\n",
    "\n",
    "#cuales son los indices con mas valores faltantes (axis=0)\n",
    "#cuales son las columnas con mas valores faltantes(axis=1)\n",
    "\n",
    "wine_reviews.isna().sum(axis = 1).idxmax() #esto me da el indice de la fila con mas valores faltante\n",
    "wine_reviews.iloc[wine_reviews.isna().sum(axis = 1).idxmax()] # me devuleve toda la informacion en ese indice"
   ]
  }
 ],
 "metadata": {
  "kernelspec": {
   "display_name": "Python 3",
   "language": "python",
   "name": "python3"
  },
  "language_info": {
   "codemirror_mode": {
    "name": "ipython",
    "version": 3
   },
   "file_extension": ".py",
   "mimetype": "text/x-python",
   "name": "python",
   "nbconvert_exporter": "python",
   "pygments_lexer": "ipython3",
   "version": "3.11.1 (tags/v3.11.1:a7a450f, Dec  6 2022, 19:58:39) [MSC v.1934 64 bit (AMD64)]"
  },
  "orig_nbformat": 4,
  "vscode": {
   "interpreter": {
    "hash": "4cee48e4aff00edcebdefabd4ad578bf432b147d279d6af496192c63213364fa"
   }
  }
 },
 "nbformat": 4,
 "nbformat_minor": 2
}
