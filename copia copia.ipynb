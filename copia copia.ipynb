{
 "cells": [
  {
   "cell_type": "markdown",
   "metadata": {
    "pycharm": {
     "name": "#%% md\n"
    }
   },
   "source": [
    "# Práctica Clase 5"
   ]
  },
  {
   "cell_type": "markdown",
   "metadata": {
    "pycharm": {
     "name": "#%% md\n"
    }
   },
   "source": [
    "1) Implementar un juego, que consista en apilar números enteros del 1 al 20, de forma aleatoria, para lo cual debe usarse una estructura de Pila. \n",
    "Luego, el usuario debe elegir un número de veces en que se va a quitar elementos de la pila, los cuales, sumados entre sí, no deben superar el valor de 50.\n",
    "El usuario pierde si la suma supera ese valor. Si no lo supera, gana, pero su calificación será 10 menos el número elementos que falten quitar para todavía no superar 50.\n",
    "El programa debe informar si perdió, y si ganó, con qué calificación lo hizo.\n",
    "\n",
    "Consideraciones:<br>\n",
    "a. Se puede usar la función input() para obtener una entrada de teclado.<br>\n",
    "b. Se puede usar la el modulo random para obtener valores aleatorios."
   ]
  },
  {
   "cell_type": "code",
   "execution_count": 20,
   "metadata": {
    "pycharm": {
     "name": "#%%\n"
    }
   },
   "outputs": [
    {
     "name": "stdout",
     "output_type": "stream",
     "text": [
      "numeros aleatorios -> [6, 8, 3, 5, 4, 14, 8, 18, 11, 11, 15, 17, 11, 2, 16, 17, 13, 13, 18, 10]\n",
      "Ganaste!!! - 3 intento\n",
      "Calificacion: 10\n",
      "[10, 18, 13, 13]\n"
     ]
    }
   ],
   "source": [
    "import random\n",
    "\n",
    "class Pila:\n",
    "    def __init__(self):\n",
    "        self.items = []\n",
    "\n",
    "    def push(self, element):\n",
    "        self.items.append(element)\n",
    "\n",
    "    def pop(self):\n",
    "        return self.items.pop(-1)\n",
    "\n",
    "\n",
    "mi_pila = Pila()\n",
    "\n",
    "\n",
    "for x in range(20):\n",
    "    n_random = random.randint(1, 20)\n",
    "    mi_pila.push(n_random)\n",
    "print(f\"numeros aleatorios -> {mi_pila.items}\")\n",
    "\n",
    "n_quitar = int(input(\"Elementos a quitar de la pila: \"))\n",
    "\n",
    "elementos_quitados = []\n",
    "\n",
    "for x in range(n_quitar):\n",
    "    elementos_quitados.append(mi_pila.pop())\n",
    "\n",
    "if sum(elementos_quitados) > 50:\n",
    "    print(\"Perdiste\")\n",
    "else:\n",
    "    n_faltan_quitar = 0\n",
    "    while len(mi_pila.items) != 0:\n",
    "        elementos_quitados.append(mi_pila.pop())\n",
    "        if sum(elementos_quitados) >= 50:\n",
    "            break\n",
    "        n_faltan_quitar += 1\n",
    "\n",
    "\n",
    "    calificacion = 10 - n_faltan_quitar\n",
    "    print(f\"Ganaste!!! - {n_quitar} intentos\")\n",
    "    print(f\"Calificacion: {calificacion}\")\n",
    "\n",
    "print(elementos_quitados)"
   ]
  },
  {
   "cell_type": "markdown",
   "metadata": {
    "pycharm": {
     "name": "#%% md\n"
    }
   },
   "source": [
    "2) Implementar un juego donde constas de 2 jarras, de capacidad 5 y 3 litros respectivamente, y debes colocar 4 litros en la jarra de 5L.\n",
    "Las opciones posibles son:\n",
    "* Llenar la jarra de 3 litros\n",
    "* Llenar la jarra de 5 litros\n",
    "* Vaciar la jarra de 3 litros\n",
    "* Vaciar la jarra de 5 litros\n",
    "* Verter el contenido de la jarra de 3 litros en la de 5 litros\n",
    "* Verter el contenido de la jarra de 5 litros en la de 3 litros"
   ]
  },
  {
   "cell_type": "code",
   "execution_count": 32,
   "outputs": [
    {
     "name": "stdout",
     "output_type": "stream",
     "text": [
      "litros de la jarra de 5l: 4l\n",
      "[1, 1, 1, 1]\n"
     ]
    }
   ],
   "source": [
    "class Jarra(Pila):\n",
    "\n",
    "    def __init__(self, capacidad):\n",
    "        super().__init__()\n",
    "        self.capacidad = capacidad\n",
    "\n",
    "    # retorna la cantidad de litros que tiene la jarra\n",
    "    def cantidad(self):\n",
    "        return sum(self.items)\n",
    "\n",
    "    def llenar(self):\n",
    "        while self.cantidad() < self.capacidad:\n",
    "            self.push(1)\n",
    "\n",
    "\n",
    "    def vaciar(self):\n",
    "        while self.cantidad() > 0:\n",
    "            self.pop()\n",
    "\n",
    "    def verter_jarra(self, jarra):\n",
    "        for l in range(self.cantidad()):\n",
    "            if self.cantidad() > 0 and jarra.cantidad() < jarra.capacidad:\n",
    "                jarra.push(self.pop())\n",
    "            else:\n",
    "                break\n",
    "\n",
    "jarra_5l = Jarra(5)\n",
    "jarra_3l = Jarra(3)\n",
    "\n",
    "jarra_3l.llenar()\n",
    "jarra_3l.verter_jarra(jarra_5l)\n",
    "jarra_3l.llenar()\n",
    "jarra_3l.verter_jarra(jarra_5l)\n",
    "jarra_5l.vaciar()\n",
    "jarra_3l.verter_jarra(jarra_5l)\n",
    "jarra_3l.llenar()\n",
    "jarra_3l.verter_jarra(jarra_5l)\n",
    "\n",
    "print(f\"litros de la jarra de 5l: {jarra_5l.cantidad()}l\")\n",
    "print(jarra_5l.items)\n",
    "\n"
   ],
   "metadata": {
    "collapsed": false,
    "pycharm": {
     "name": "#%%\n"
    }
   }
  },
  {
   "cell_type": "code",
   "execution_count": null,
   "outputs": [],
   "source": [],
   "metadata": {
    "collapsed": false,
    "pycharm": {
     "name": "#%%\n"
    }
   }
  }
 ],
 "metadata": {
  "kernelspec": {
   "display_name": "Python 3",
   "language": "python",
   "name": "python3"
  },
  "language_info": {
   "codemirror_mode": {
    "name": "ipython",
    "version": 3
   },
   "file_extension": ".py",
   "mimetype": "text/x-python",
   "name": "python",
   "nbconvert_exporter": "python",
   "pygments_lexer": "ipython3",
   "version": "3.9.7"
  }
 },
 "nbformat": 4,
 "nbformat_minor": 4
}