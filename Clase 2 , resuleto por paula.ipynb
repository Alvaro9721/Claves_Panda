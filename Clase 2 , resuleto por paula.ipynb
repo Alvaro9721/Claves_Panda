{
 "cells": [
  {
   "cell_type": "code",
   "execution_count": 173,
   "metadata": {},
   "outputs": [],
   "source": [
    "dicc_emisiones = {  'cod_pais' : [],\n",
    "                    'nom_pais' : [],\n",
    "                    'region' : [],\n",
    "                    'anio' : [],\n",
    "                    'co2' : [],\n",
    "                    'co2_percapita' : []}"
   ]
  },
  {
   "cell_type": "code",
   "execution_count": 174,
   "metadata": {},
   "outputs": [],
   "source": [
    "\n",
    "import csv\n",
    "\n",
    "archivo = open('Emisiones_CO2.csv', encoding=\"latin-1\")\n",
    "# el next se pone antes del for para que me omita los titulos\n",
    "next(archivo)\n",
    "for linea in archivo:\n",
    "    # vamos a quitar los saltos de linea rstrip va primero que el split\n",
    "    linea= linea.rstrip()\n",
    "    # le quitamos los separadores a la base de datos\n",
    "    campos = linea.split(\"|\")\n",
    "    dicc_emisiones[\"cod_pais\"].append(campos[0])\n",
    "    dicc_emisiones[\"nom_pais\"].append(campos[1])\n",
    "    dicc_emisiones[\"region\"].append(campos[2])\n",
    "    dicc_emisiones[\"anio\"].append(campos[3])\n",
    "    dicc_emisiones[\"co2\"].append(campos[4])\n",
    "    dicc_emisiones[\"co2_percapita\"].append(campos[5])\n",
    "    #para cambiar los puntos por las comas en el c02 indice 4\n"
   ]
  },
  {
   "cell_type": "code",
   "execution_count": 175,
   "metadata": {},
   "outputs": [],
   "source": [
    "for indice,elemento in enumerate(dicc_emisiones[\"co2\"]):\n",
    "    if elemento:\n",
    "        elemento=elemento.replace(\".\",\"\")\n",
    "        elemento = elemento.replace(\",\",\".\")\n",
    "        elemento=float(elemento)\n",
    "    else:\n",
    "        elemento=None\n",
    "    dicc_emisiones[\"co2\"][indice]=elemento "
   ]
  },
  {
   "cell_type": "code",
   "execution_count": 185,
   "metadata": {},
   "outputs": [
    {
     "name": "stdout",
     "output_type": "stream",
     "text": [
      "2095\n",
      "9032\n",
      "11127\n"
     ]
    }
   ],
   "source": [
    "elemento_vacio = False\n",
    "numero_vacios = 0\n",
    "numero_de_llenos = 0\n",
    "total = 0\n",
    "for x in dicc_emisiones[\"co2\"]:\n",
    "    total += 1\n",
    "    if x == None:\n",
    "        numero_vacios += 1\n",
    "    else:\n",
    "        numero_de_llenos +=1\n",
    "\n",
    "print(numero_vacios)\n",
    "print(numero_de_llenos)\n",
    "print(total)\n",
    "\n",
    "\n",
    "    "
   ]
  }
 ],
 "metadata": {
  "kernelspec": {
   "display_name": "Python 3.10.6 64-bit",
   "language": "python",
   "name": "python3"
  },
  "language_info": {
   "codemirror_mode": {
    "name": "ipython",
    "version": 3
   },
   "file_extension": ".py",
   "mimetype": "text/x-python",
   "name": "python",
   "nbconvert_exporter": "python",
   "pygments_lexer": "ipython3",
   "version": "3.10.6"
  },
  "orig_nbformat": 4,
  "vscode": {
   "interpreter": {
    "hash": "d90312a38fc1d0a22e54075737e7cbc9c4bce8201c3fcbae88019b0c90a84f0b"
   }
  }
 },
 "nbformat": 4,
 "nbformat_minor": 2
}
