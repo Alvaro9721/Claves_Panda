{
 "cells": [
  {
   "cell_type": "markdown",
   "metadata": {},
   "source": [
    "# Práctica Clase 5"
   ]
  },
  {
   "cell_type": "markdown",
   "metadata": {},
   "source": [
    "1) Implementar un juego, que consista en apilar números enteros del 1 al 20, de forma aleatoria, para lo cual debe usarse una estructura de Pila. \n",
    "Luego, el usuario debe elegir un número de veces en que se va a quitar elementos de la pila, los cuales, sumados entre sí, no deben superar el valor de 50.\n",
    "El usuario pierde si la suma supera ese valor. Si no lo supera, gana, pero su calificación será 10 menos el número elementos que falten quitar para todavía no superar 50.\n",
    "El programa debe informar si perdió, y si ganó, con qué calificación lo hizo.\n",
    "\n",
    "Consideraciones:<br>\n",
    "a. Se puede usar la función input() para obtener una entrada de teclado.<br>\n",
    "b. Se puede usar la el modulo random para obtener valores aleatorios."
   ]
  },
  {
   "cell_type": "code",
   "execution_count": 61,
   "metadata": {},
   "outputs": [],
   "source": [
    "import numpy as np\n",
    "import pandas as pd\n",
    "import random"
   ]
  },
  {
   "cell_type": "code",
   "execution_count": 93,
   "metadata": {},
   "outputs": [
    {
     "name": "stdout",
     "output_type": "stream",
     "text": [
      "Ganaste!!! tus numeros fueron [7, 5, 16, 8] y tus puntos son  6\n",
      "[6, 17, 15, 12, 10, 3, 11, 18, 1, 20, 2, 19, 14, 4, 9, 13]\n",
      "16\n"
     ]
    }
   ],
   "source": [
    "import random\n",
    "\n",
    "fichas=4\n",
    "lista_num=[]\n",
    "elementos_sacados=[]\n",
    "puntos= 0\n",
    "for numero in range(0,100):\n",
    "    aleatorio = random.randint(1,20)\n",
    "    if not(aleatorio in lista_num):\n",
    "  \n",
    "        lista_num.append(aleatorio)\n",
    "n = 0\n",
    "while (n < fichas):\n",
    "    elementos_sacados.append(lista_num.pop())\n",
    "    n +=1\n",
    "\n",
    "if sum(elementos_sacados) < 50:\n",
    "    puntos= len(lista_num) - 10\n",
    "    print(f\"Ganaste!!!\",\"tus numeros fueron\", elementos_sacados, \"y tus puntos son \", puntos)\n",
    "else:\n",
    "    print(f\"perdiste bruta tus numeros fueron\", elementos_sacados, \"para un total de\", sum(elementos_sacados))\n",
    "    \n",
    "\n",
    "print(lista_num)\n",
    "print(len(lista_num))\n"
   ]
  },
  {
   "cell_type": "code",
   "execution_count": 109,
   "metadata": {},
   "outputs": [],
   "source": [
    "class juegopila:\n",
    "    #constructor\n",
    "    def __init__(self):\n",
    "        self.__lista = []     \n",
    "        \n",
    "    def crearPila (self):\n",
    "        self.numero=random.sample(range(1,21),20)\n",
    "        print(\"esta es tu lista de numeros\")\n",
    "        print(self.numero)\n",
    "        \n",
    "     \n",
    "    def suma_elementos (self, elementos):\n",
    "        self.i = 1\n",
    "        self.suma =0\n",
    "        while(self.i <= elementos):\n",
    "              #aca self suma va a sumar los elementos que se saquen de la lista numero\n",
    "              self.suma += self.numero.pop()\n",
    "              self.i += 1\n",
    "        return(self.suma)\n",
    "        \n",
    "    def puntaje (self, resultado):\n",
    "        self.sum_resultado = resultado\n",
    "        self.puntos = 10\n",
    "     \n",
    "        while (self.sum_resultado <= 50):\n",
    "            self.sum_resultado += self.numero.pop()\n",
    "            self.puntos = self.puntos - 1\n",
    "        if (self.sum_resultado > 50):\n",
    "            return (self.puntos +1 )\n",
    "        else:\n",
    "            return(self.puntos)\n",
    "    def jugar (self):\n",
    "        #pongo self.crear pilas, para que me cree la pila\n",
    "        self.crearPila()\n",
    "        \n",
    "        #para agregar las fichas por teclado usamos imput\n",
    "        \n",
    "        print(\"cuantos elementos quieres sacar ??\")\n",
    "        self.cantida_elementos = int(input())\n",
    "        \n",
    "        #los elementos que van dentro de la funcion suma de elementos son los ingresados por teclado\n",
    "        self.resultado = self.suma_elementos(self.cantida_elementos)\n",
    "        \n",
    "        if (self.resultado > 50 ):\n",
    "            print(\"perdiste, tu sumatoria dio\",self.resultado)\n",
    "        else:\n",
    "            print(\"Ganaste!!, tus resultado fue\", self.resultado,\"teniendo un puntaje de\",self.puntaje(self.resultado))\n",
    "    \n",
    "\n",
    "    \n",
    "\n",
    "        "
   ]
  },
  {
   "cell_type": "code",
   "execution_count": 110,
   "metadata": {},
   "outputs": [
    {
     "name": "stdout",
     "output_type": "stream",
     "text": [
      "esta es tu lista de numeros\n",
      "[3, 7, 13, 9, 18, 6, 10, 15, 20, 14, 11, 4, 19, 17, 1, 2, 12, 8, 5, 16]\n",
      "cuantos elementos quieres sacar ??\n",
      "Ganaste!!, tus resultado fue 21 teniendo un puntaje de 6\n"
     ]
    }
   ],
   "source": [
    "p= juegopila()\n",
    "\n",
    "p.jugar()\n"
   ]
  },
  {
   "cell_type": "code",
   "execution_count": 63,
   "metadata": {},
   "outputs": [
    {
     "name": "stdout",
     "output_type": "stream",
     "text": [
      "[12, 5, 17, 18, 15, 7, 14, 19, 2, 9, 4, 6, 11, 16, 10, 1, 20, 13, 3, 8]\n"
     ]
    }
   ],
   "source": [
    "lista=random.sample(range(1,21),20)\n",
    "print(lista)"
   ]
  },
  {
   "cell_type": "markdown",
   "metadata": {},
   "source": [
    "2) Implementar un juego donde constas de 2 jarras, de capacidad 5 y 3 litros respectivamente, y debes colocar 4 litros en la jarra de 5L.\n",
    "Las opciones posibles son:\n",
    "* Llenar la jarra de 3 litros\n",
    "* Llenar la jarra de 5 litros\n",
    "* Vaciar la jarra de 3 litros\n",
    "* Vaciar la jarra de 5 litros\n",
    "* Verter el contenido de la jarra de 3 litros en la de 5 litros\n",
    "* Verter el contenido de la jarra de 5 litros en la de 3 litros"
   ]
  }
 ],
 "metadata": {
  "kernelspec": {
   "display_name": "Python 3.10.7 64-bit (microsoft store)",
   "language": "python",
   "name": "python3"
  },
  "language_info": {
   "codemirror_mode": {
    "name": "ipython",
    "version": 3
   },
   "file_extension": ".py",
   "mimetype": "text/x-python",
   "name": "python",
   "nbconvert_exporter": "python",
   "pygments_lexer": "ipython3",
   "version": "3.10.7"
  },
  "vscode": {
   "interpreter": {
    "hash": "163d498d01464e50079bf879f7a9c6f977f71c6bd01af07dba10323051718e53"
   }
  }
 },
 "nbformat": 4,
 "nbformat_minor": 4
}
